{
 "cells": [
  {
   "cell_type": "code",
   "execution_count": 13,
   "id": "4b4a9487-eb08-495f-9326-391599c015e9",
   "metadata": {},
   "outputs": [
    {
     "name": "stdin",
     "output_type": "stream",
     "text": [
      "enter your account balance:  20000\n",
      "enter your monthly rate (%):  2\n",
      "enter how many months:  2\n"
     ]
    },
    {
     "name": "stdout",
     "output_type": "stream",
     "text": [
      "Your balance will be $20808.0\n"
     ]
    }
   ],
   "source": [
    "# Function to calculate a future bank balance based on compound interest\n",
    "def future_value(balance, rate, time):\n",
    "\n",
    "    # Equation (from textbook) to make the calculation\n",
    "    money = balance*(1 + rate)**time\n",
    "    return (money)\n",
    "\n",
    "# Looping variable\n",
    "pos = False\n",
    "try:\n",
    "    # Repeats until valid inputs\n",
    "    while not pos:\n",
    "        # Allows user to input their values\n",
    "        balance = float(input(\"Enter your account balance: \"))\n",
    "        rate = float(input(\"Enter your monthly rate (%): \"))\n",
    "        time = int(input(\"Enter time period (months): \"))\n",
    "\n",
    "        # All values are positive, can progress program\n",
    "        if balance > 0 and rate > 0 and time > 0:\n",
    "            pos = True\n",
    "\n",
    "            # Calls function to calculate the future balance, and displays it\n",
    "            money = future_value(balance, rate/100, time)\n",
    "            print (\"Your balance will be $\" + str(money))\n",
    "\n",
    "        # A value is negative, prints error message and loops to inputs\n",
    "        else:\n",
    "            print(\"ERROR: Cannot proccess negative numbers\")\n",
    "\n",
    "# Numbers were not inputted; program closes\n",
    "except (ValueError):\n",
    "    print(\"ERROR: Invalid input\")"
   ]
  },
  {
   "cell_type": "code",
   "execution_count": null,
   "id": "74a3490f-827d-428b-8c50-68f108d793f9",
   "metadata": {},
   "outputs": [],
   "source": []
  }
 ],
 "metadata": {
  "kernelspec": {
   "display_name": "Python [conda env:base] *",
   "language": "python",
   "name": "conda-base-py"
  },
  "language_info": {
   "codemirror_mode": {
    "name": "ipython",
    "version": 3
   },
   "file_extension": ".py",
   "mimetype": "text/x-python",
   "name": "python",
   "nbconvert_exporter": "python",
   "pygments_lexer": "ipython3",
   "version": "3.11.5"
  }
 },
 "nbformat": 4,
 "nbformat_minor": 5
}
