{
 "cells": [
  {
   "cell_type": "code",
   "execution_count": 31,
   "id": "4b4a9487-eb08-495f-9326-391599c015e9",
   "metadata": {},
   "outputs": [
    {
     "name": "stdin",
     "output_type": "stream",
     "text": [
      "enter your account balance:  3\n",
      "enter your monthly rate (%):  3\n",
      "enter for how many months:  1.2\n"
     ]
    },
    {
     "name": "stdout",
     "output_type": "stream",
     "text": [
      "Value entered is invalid\n"
     ]
    }
   ],
   "source": [
    "def future_value(balance, rate, time):\n",
    "    money = balance*(1 + rate)**time\n",
    "    return (money)\n",
    "\n",
    "try:\n",
    "    balance = float(input(\"enter your account balance: \"))\n",
    "    rate = float(input(\"enter your monthly rate (%): \"))\n",
    "    time = int(input(\"enter for how many months: \"))\n",
    "\n",
    "    money = future_value(balance, rate/100, time)\n",
    "    print (\"Your balance will be $\" + str(money))\n",
    "\n",
    "except (ValueError):\n",
    "    print(\"Value entered is invalid\")"
   ]
  },
  {
   "cell_type": "code",
   "execution_count": null,
   "id": "616b9b08-6c47-46e2-88f0-6999d32f2021",
   "metadata": {},
   "outputs": [],
   "source": []
  }
 ],
 "metadata": {
  "kernelspec": {
   "display_name": "Python [conda env:base] *",
   "language": "python",
   "name": "conda-base-py"
  },
  "language_info": {
   "codemirror_mode": {
    "name": "ipython",
    "version": 3
   },
   "file_extension": ".py",
   "mimetype": "text/x-python",
   "name": "python",
   "nbconvert_exporter": "python",
   "pygments_lexer": "ipython3",
   "version": "3.11.5"
  }
 },
 "nbformat": 4,
 "nbformat_minor": 5
}
