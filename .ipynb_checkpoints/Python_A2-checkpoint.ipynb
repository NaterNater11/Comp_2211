{
 "cells": [
  {
   "cell_type": "code",
   "execution_count": 83,
   "id": "e66c8caa-bc3e-48a9-8d8d-1cf9a88e79e0",
   "metadata": {},
   "outputs": [
    {
     "name": "stdout",
     "output_type": "stream",
     "text": [
      "NatCap338\n",
      "This is a valid password\n"
     ]
    }
   ],
   "source": [
    "def get_login_name(fname, lname, ID):\n",
    "    username = ''\n",
    "    \n",
    "    # Adding the first three letters of the first name\n",
    "    n = 0\n",
    "    while (n < 3 and n < len(fname)):\n",
    "        username += fname[n]\n",
    "        n += 1\n",
    "\n",
    "    # Adding the first three letters of the first name\n",
    "    n = 0\n",
    "    while (n < 3 and n < len(lname)):\n",
    "        username += lname[n]\n",
    "        n += 1\n",
    "\n",
    "    # Adding the first three letters of the first name\n",
    "    n = 0\n",
    "    while (n < 6 and n < len(ID)):\n",
    "        if (n > 2):\n",
    "            username += ID[n]\n",
    "        n += 1\n",
    "\n",
    "    return(username)\n",
    "\n",
    "def verify_password(password):\n",
    "    n = 0\n",
    "    upper = False\n",
    "    lower = False\n",
    "    num = False\n",
    "\n",
    "    while(n < len(password)):\n",
    "        if (password[n].isupper()):\n",
    "            upper = True\n",
    "\n",
    "        if (password[n].islower()):\n",
    "            lower = True\n",
    "\n",
    "        if (password[n].isdigit()):\n",
    "            num = True\n",
    "\n",
    "        if (n >= 6 and upper and lower and num):\n",
    "            return(True)\n",
    "        n += 1\n",
    "    \n",
    "    return(False)\n",
    "\n",
    "fname = \"Nate\"\n",
    "lname = \"Caputo\"\n",
    "ID = \"T003383922\"\n",
    "\n",
    "print(get_login_name(fname, lname, ID))\n",
    "\n",
    "password = \"Manny17\"\n",
    "valid = verify_password(password)\n",
    "if (valid):\n",
    "    print(\"This is a valid password\")\n",
    "if (not valid):\n",
    "    print(\"This password is not valid\")"
   ]
  },
  {
   "cell_type": "code",
   "execution_count": null,
   "id": "bd593ba0-2eb4-4976-b99f-8bccaa5a4878",
   "metadata": {},
   "outputs": [],
   "source": []
  }
 ],
 "metadata": {
  "kernelspec": {
   "display_name": "Python [conda env:base] *",
   "language": "python",
   "name": "conda-base-py"
  },
  "language_info": {
   "codemirror_mode": {
    "name": "ipython",
    "version": 3
   },
   "file_extension": ".py",
   "mimetype": "text/x-python",
   "name": "python",
   "nbconvert_exporter": "python",
   "pygments_lexer": "ipython3",
   "version": "3.11.5"
  }
 },
 "nbformat": 4,
 "nbformat_minor": 5
}
