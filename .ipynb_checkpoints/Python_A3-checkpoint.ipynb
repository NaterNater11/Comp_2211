{
 "cells": [
  {
   "cell_type": "code",
   "execution_count": 100,
   "id": "5e46943e-a839-48f2-8582-21644e0b1b33",
   "metadata": {},
   "outputs": [
    {
     "name": "stdout",
     "output_type": "stream",
     "text": [
      "['RST1234A6A-12', 'STI1281J9A-04', 'FOR2561T4R-54', 'BID2075U3R-55', 'AGA1475P1B01', 'JBT2175E5X-04', 'KAM1145X2R-05']\n",
      "['XYZ2755R-14', 'UVW24a6R7R-13', 'PQR3999F85-11']\n",
      "True\n",
      "True\n",
      "False\n",
      "False\n",
      "True\n",
      "True\n",
      "True\n"
     ]
    }
   ],
   "source": [
    "def code_validator(product):\n",
    "\n",
    "    if 10 <= len(product):\n",
    "\n",
    "        if 'A' <= product[9] <= 'Z':\n",
    "\n",
    "            try:\n",
    "                (int(product[3]) + int(product[4]) + int(product[5]) + int(product[6]))\n",
    "                return True\n",
    "\n",
    "            except:\n",
    "                return False\n",
    "                \n",
    "    return False\n",
    "\n",
    "def regulation_check(product):\n",
    "    if product[9] == 'R':\n",
    "\n",
    "        if ((1000*int(product[3]) + 100*int(product[4]) + 10*int(product[5]) + int(product[6])) < 2000):\n",
    "            return True\n",
    "\n",
    "        else:\n",
    "            return False\n",
    "\n",
    "    else:\n",
    "        return True    \n",
    "\n",
    "file = open('A3 codes.txt', 'r')\n",
    "read = file.readlines()\n",
    "\n",
    "valid_product_codes = []\n",
    "invalid_product_codes = []\n",
    "for line in read:\n",
    "\n",
    "    if code_validator(line):\n",
    "        valid_product_codes.append(line.strip())\n",
    "        \n",
    "    else:\n",
    "        invalid_product_codes.append(line.strip())\n",
    "\n",
    "print(valid_product_codes)\n",
    "print(invalid_product_codes)\n",
    "\n",
    "for n in valid_product_codes:\n",
    "    print(regulation_check(n))"
   ]
  },
  {
   "cell_type": "code",
   "execution_count": null,
   "id": "3f3ed6c8-5b31-47ef-8542-eed068e29a5f",
   "metadata": {},
   "outputs": [],
   "source": []
  },
  {
   "cell_type": "code",
   "execution_count": null,
   "id": "a8accc13-a6f5-4752-85df-b45c25f902c0",
   "metadata": {},
   "outputs": [],
   "source": []
  }
 ],
 "metadata": {
  "kernelspec": {
   "display_name": "Python [conda env:base] *",
   "language": "python",
   "name": "conda-base-py"
  },
  "language_info": {
   "codemirror_mode": {
    "name": "ipython",
    "version": 3
   },
   "file_extension": ".py",
   "mimetype": "text/x-python",
   "name": "python",
   "nbconvert_exporter": "python",
   "pygments_lexer": "ipython3",
   "version": "3.11.5"
  }
 },
 "nbformat": 4,
 "nbformat_minor": 5
}
