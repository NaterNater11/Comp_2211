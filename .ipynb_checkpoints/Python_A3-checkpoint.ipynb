{
 "cells": [
  {
   "cell_type": "code",
   "execution_count": 7,
   "id": "5e46943e-a839-48f2-8582-21644e0b1b33",
   "metadata": {},
   "outputs": [
    {
     "name": "stdout",
     "output_type": "stream",
     "text": [
      "Valid codes are: RST1234A6A-12 STI1281J9A-04 FOR2561T4R-54 BID2075U3R-55 AGA1475P1B01 JBT2175E5X-04 KAM1145X2R-05\n",
      "Invalid codes are: XYZ2755R-14 UVW24a6R7R-13 PQR3999F85-11\n",
      "Restricted (Valid) codes are: FOR2561T4R-54 BID2075U3R-55\n"
     ]
    }
   ],
   "source": [
    "# Function to determine whether a product's code contains proper information\n",
    "def code_validator(product):\n",
    "    # Ensures the product code is at least 10 digits\n",
    "    if 10 <= len(product):\n",
    "        # The tenth digit needs to be a capital letter, this represents the product's security level\n",
    "        if 'A' <= product[9] <= 'Z':\n",
    "            # attempts to add the fourth to seventh digits together, this digits need to be numbers to represent country orgin\n",
    "            try:\n",
    "                (int(product[3]) + int(product[4]) + int(product[5]) + int(product[6]))\n",
    "                # Product is valid\n",
    "                return True\n",
    "\n",
    "            # Could not add the digits properly, this is because one or more digits are not numeric values and break the rules\n",
    "            except:\n",
    "                # Product is not valid\n",
    "                return False\n",
    "\n",
    "    # Product is not valid\n",
    "    return False\n",
    "\n",
    "# Function to see if a product conforms with governement security laws\n",
    "def regulation_check(product):\n",
    "    # The security code must be restricted, represented with 'R' in the tenth position\n",
    "    if product[9] == 'R':\n",
    "        # Turns each unique digit from fourth to seventh position into a four digit number, checks if it is below 2000\n",
    "        if ((1000*int(product[3]) + 100*int(product[4]) + 10*int(product[5]) + int(product[6])) < 2000):\n",
    "            # Product is restricted but can be sold\n",
    "            return True\n",
    "\n",
    "        else:\n",
    "            # Product is restricted and cannot be sold\n",
    "            return False\n",
    "\n",
    "    else:\n",
    "        # Product is not restricted and can be sold\n",
    "        return True    \n",
    "\n",
    "# Opens the product code file in reading format\n",
    "file = open('A3 codes.txt', 'r')\n",
    "read = file.readlines()\n",
    "\n",
    "# Creating lists to store information\n",
    "valid_product_codes = []\n",
    "invalid_product_codes = []\n",
    "restricted_product_codes = []\n",
    "\n",
    "# Reads individual line from the file\n",
    "for line in read:\n",
    "    # Checks if the product meets code requirements\n",
    "    if code_validator(line):\n",
    "        # Product passed the test and is added to the valid list, also removing the '\\n'\n",
    "        valid_product_codes.append(line.strip())\n",
    "    \n",
    "    else:\n",
    "        # Product failed the test and is added to the invalid list, also removing the '\\n'\n",
    "        invalid_product_codes.append(line.strip())\n",
    "\n",
    "# Valid and Invalid codes are displayed in a nice format\n",
    "print(\"Valid codes are:\", *valid_product_codes)\n",
    "print(\"Invalid codes are:\", *invalid_product_codes)\n",
    "\n",
    "# Verifies that each valid code complies with governement restrictions, do not need check invalid code since they are wrong\n",
    "for n in valid_product_codes:\n",
    "    # Checks if product code in the validation function fails\n",
    "    if not regulation_check(n):\n",
    "        # If it fails, that code is added to the restricted list\n",
    "        restricted_product_codes.append(n)\n",
    "\n",
    "# Displays the restricted list in a nice format\n",
    "print(\"Restricted (Valid) codes are:\", *restricted_product_codes)"
   ]
  },
  {
   "cell_type": "code",
   "execution_count": null,
   "id": "a8accc13-a6f5-4752-85df-b45c25f902c0",
   "metadata": {},
   "outputs": [],
   "source": []
  }
 ],
 "metadata": {
  "kernelspec": {
   "display_name": "Python [conda env:base] *",
   "language": "python",
   "name": "conda-base-py"
  },
  "language_info": {
   "codemirror_mode": {
    "name": "ipython",
    "version": 3
   },
   "file_extension": ".py",
   "mimetype": "text/x-python",
   "name": "python",
   "nbconvert_exporter": "python",
   "pygments_lexer": "ipython3",
   "version": "3.11.5"
  }
 },
 "nbformat": 4,
 "nbformat_minor": 5
}
