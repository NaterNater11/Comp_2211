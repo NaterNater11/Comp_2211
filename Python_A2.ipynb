{
 "cells": [
  {
   "cell_type": "code",
   "execution_count": 69,
   "id": "e66c8caa-bc3e-48a9-8d8d-1cf9a88e79e0",
   "metadata": {},
   "outputs": [
    {
     "name": "stdin",
     "output_type": "stream",
     "text": [
      "Enter your first name:  Nate\n",
      "Enter your last name:  Caputo\n",
      "Enter your student ID:  T007348283\n"
     ]
    },
    {
     "name": "stdout",
     "output_type": "stream",
     "text": [
      "Your username is NatCap283\n",
      "Your password must be at least seven characters long and include at least one uppercase letter, lowercase letter, and digit\n"
     ]
    },
    {
     "name": "stdin",
     "output_type": "stream",
     "text": [
      "Enter a valid password:  Manny16\n"
     ]
    },
    {
     "name": "stdout",
     "output_type": "stream",
     "text": [
      "This is a valid password\n"
     ]
    }
   ],
   "source": [
    "# Function to assmeble a username based off their first name, last name, and student ID\n",
    "def get_login_name(fname, lname, ID):\n",
    "    username = ''\n",
    "    \n",
    "    # Adding the first three letters of the first name\n",
    "    n = 0\n",
    "    while (n < 3 and n < len(fname)):\n",
    "        username += fname[n]\n",
    "        n += 1\n",
    "\n",
    "    # Adding the first three letters of the last name\n",
    "    n = 0\n",
    "    while (n < 3 and n < len(lname)):\n",
    "        username += lname[n]\n",
    "        n += 1\n",
    "\n",
    "    # Adding the last three digits of the student ID\n",
    "    n = -3\n",
    "    while (-3 <= n <= -1):\n",
    "        # Adds the last values of the ID in order\n",
    "        try:\n",
    "            username += ID[n]\n",
    "            n += 1\n",
    "\n",
    "        # ID is smaller than the maximum result\n",
    "        except (IndexError):\n",
    "            n += 1\n",
    "\n",
    "    return (username)\n",
    "\n",
    "# Function to review password requirements\n",
    "def verify_password(password):\n",
    "    n = 0\n",
    "    upper = False\n",
    "    lower = False\n",
    "    num = False\n",
    "\n",
    "    # Loops through all values within the password\n",
    "    while(n < len(password)):\n",
    "        # Checks if the value is an lowercase letter (placed first to reduce runtime, due to high likihood of a lowercase letter)\n",
    "        if (password[n].islower()):\n",
    "            lower = True\n",
    "\n",
    "        # Checks if the value is an uppercase letter\n",
    "        elif (password[n].isupper()):\n",
    "            upper = True\n",
    "\n",
    "        # Checks if the value is a digit\n",
    "        elif (password[n].isdigit()):\n",
    "            num = True\n",
    "\n",
    "        # Once length, lower, upper, and number requirements are met, we return that its valid (we do not need to check the rest of the password)\n",
    "        if (n >= 6 and upper and lower and num):\n",
    "            return(True)\n",
    "        n += 1\n",
    "\n",
    "    # Looped through all values and some requirement was not met; therefore, the password is not valid\n",
    "    return(False)\n",
    "\n",
    "# Takes input from user\n",
    "fname = input(\"Enter your first name: \")\n",
    "lname = input(\"Enter your last name: \")\n",
    "ID = input(\"Enter your student ID: \")\n",
    "\n",
    "# Displays username based off the get_login_name function's calculations\n",
    "print(\"Your username is \" + get_login_name(fname, lname, ID))\n",
    "\n",
    "# Displays the password requirements\n",
    "print(\"Your password must be at least seven characters long and include at least one uppercase letter, lowercase letter, and digit\")\n",
    "\n",
    "# Loops through accepting a user's password and checks it for requirements, done through the verify_password function\n",
    "valid = False\n",
    "while not valid:\n",
    "    password = input(\"Enter a valid password: \")\n",
    "    valid = verify_password(password)\n",
    "\n",
    "    # Passed all checks and the user can use this password\n",
    "    if (valid):\n",
    "        print(\"This is a valid password\")\n",
    "\n",
    "    # Failed one or more checks, and asks the user for new valid password\n",
    "    if (not valid):\n",
    "        print(\"This password is not valid, please review requirements\")"
   ]
  },
  {
   "cell_type": "code",
   "execution_count": null,
   "id": "bd593ba0-2eb4-4976-b99f-8bccaa5a4878",
   "metadata": {},
   "outputs": [],
   "source": []
  }
 ],
 "metadata": {
  "kernelspec": {
   "display_name": "Python [conda env:base] *",
   "language": "python",
   "name": "conda-base-py"
  },
  "language_info": {
   "codemirror_mode": {
    "name": "ipython",
    "version": 3
   },
   "file_extension": ".py",
   "mimetype": "text/x-python",
   "name": "python",
   "nbconvert_exporter": "python",
   "pygments_lexer": "ipython3",
   "version": "3.11.5"
  }
 },
 "nbformat": 4,
 "nbformat_minor": 5
}
