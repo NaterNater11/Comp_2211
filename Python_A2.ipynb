{
 "cells": [
  {
   "cell_type": "code",
   "execution_count": 9,
   "id": "e66c8caa-bc3e-48a9-8d8d-1cf9a88e79e0",
   "metadata": {},
   "outputs": [
    {
     "name": "stdin",
     "output_type": "stream",
     "text": [
      "Enter your first name:  Nate\n",
      "Enter your last name:  Caputo\n",
      "Enter your student ID:  T00466582\n"
     ]
    },
    {
     "name": "stdout",
     "output_type": "stream",
     "text": [
      "Your username is NatCap466\n",
      "Your password must be at least seven characters long and include at least one uppercase letter, lowercase letter, and digit\n"
     ]
    },
    {
     "name": "stdin",
     "output_type": "stream",
     "text": [
      "Enter a valid password:  Manny1\n"
     ]
    },
    {
     "name": "stdout",
     "output_type": "stream",
     "text": [
      "This password is not valid\n"
     ]
    },
    {
     "name": "stdin",
     "output_type": "stream",
     "text": [
      "Enter a valid password:  Caputo\n"
     ]
    },
    {
     "name": "stdout",
     "output_type": "stream",
     "text": [
      "This password is not valid\n"
     ]
    },
    {
     "name": "stdin",
     "output_type": "stream",
     "text": [
      "Enter a valid password:  Nate\n"
     ]
    },
    {
     "name": "stdout",
     "output_type": "stream",
     "text": [
      "This password is not valid\n"
     ]
    },
    {
     "name": "stdin",
     "output_type": "stream",
     "text": [
      "Enter a valid password:  T00466582\n"
     ]
    },
    {
     "name": "stdout",
     "output_type": "stream",
     "text": [
      "This password is not valid\n"
     ]
    },
    {
     "name": "stdin",
     "output_type": "stream",
     "text": [
      "Enter a valid password:  T00466582a\n"
     ]
    },
    {
     "name": "stdout",
     "output_type": "stream",
     "text": [
      "This is a valid password\n"
     ]
    }
   ],
   "source": [
    "def get_login_name(fname, lname, ID):\n",
    "    username = ''\n",
    "    \n",
    "    # Adding the first three letters of the first name\n",
    "    n = 0\n",
    "    while (n < 3 and n < len(fname)):\n",
    "        username += fname[n]\n",
    "        n += 1\n",
    "\n",
    "    # Adding the first three letters of the first name\n",
    "    n = 0\n",
    "    while (n < 3 and n < len(lname)):\n",
    "        username += lname[n]\n",
    "        n += 1\n",
    "\n",
    "    # Adding the first three letters of the first name\n",
    "    n = 0\n",
    "    while (n < 6 and n < len(ID)):\n",
    "        if (n > 2):\n",
    "            username += ID[n]\n",
    "        n += 1\n",
    "\n",
    "    return(username)\n",
    "\n",
    "def verify_password(password):\n",
    "    n = 0\n",
    "    upper = False\n",
    "    lower = False\n",
    "    num = False\n",
    "\n",
    "    while(n < len(password)):\n",
    "        if (password[n].isupper()):\n",
    "            upper = True\n",
    "\n",
    "        if (password[n].islower()):\n",
    "            lower = True\n",
    "\n",
    "        if (password[n].isdigit()):\n",
    "            num = True\n",
    "\n",
    "        if (n >= 6 and upper and lower and num):\n",
    "            return(True)\n",
    "        n += 1\n",
    "    \n",
    "    return(False)\n",
    "\n",
    "fname = input(\"Enter your first name: \")\n",
    "lname = input(\"Enter your last name: \")\n",
    "ID = input(\"Enter your student ID: \")\n",
    "\n",
    "print(\"Your username is \" + get_login_name(fname, lname, ID))\n",
    "\n",
    "print(\"Your password must be at least seven characters long and include at least one uppercase letter, lowercase letter, and digit\")\n",
    "\n",
    "valid = False\n",
    "while not valid:\n",
    "    password = input(\"Enter a valid password: \")\n",
    "    valid = verify_password(password)\n",
    "    \n",
    "    if (valid):\n",
    "        print(\"This is a valid password\")\n",
    "    if (not valid):\n",
    "        print(\"This password is not valid, please review requirements\")"
   ]
  },
  {
   "cell_type": "code",
   "execution_count": null,
   "id": "bd593ba0-2eb4-4976-b99f-8bccaa5a4878",
   "metadata": {},
   "outputs": [],
   "source": []
  }
 ],
 "metadata": {
  "kernelspec": {
   "display_name": "Python [conda env:base] *",
   "language": "python",
   "name": "conda-base-py"
  },
  "language_info": {
   "codemirror_mode": {
    "name": "ipython",
    "version": 3
   },
   "file_extension": ".py",
   "mimetype": "text/x-python",
   "name": "python",
   "nbconvert_exporter": "python",
   "pygments_lexer": "ipython3",
   "version": "3.11.5"
  }
 },
 "nbformat": 4,
 "nbformat_minor": 5
}
